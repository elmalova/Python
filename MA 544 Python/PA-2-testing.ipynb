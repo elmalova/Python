{
 "cells": [
  {
   "cell_type": "code",
   "execution_count": 51,
   "metadata": {},
   "outputs": [],
   "source": [
    "#IMPORT\n",
    "import numpy as np\n",
    "import matplotlib.pyplot as plt\n",
    "import matplotlib.image as mpimg\n",
    "%matplotlib inline\n",
    "\n",
    "from ipywidgets import interact, interactive, fixed, interact_manual\n",
    "import ipywidgets as widgets\n",
    "\n",
    "## Set a seed for the random number generator\n",
    "np.random.seed(100)"
   ]
  },
  {
   "cell_type": "markdown",
   "metadata": {},
   "source": [
    "The follwoign code was taken from the notes, it is a function that is used by problems 1-3. it has been modified to inculde a count of interchanges"
   ]
  },
  {
   "cell_type": "code",
   "execution_count": 52,
   "metadata": {},
   "outputs": [],
   "source": [
    "def GE_rsp(A):\n",
    "    \n",
    "    c=0 # count of how many interchanges\n",
    "    \n",
    "    m,n = A.shape\n",
    "        \n",
    "    # Scaling vector: absolute maximum elements of each row\n",
    "    s = np.max(np.abs(A), axis=1)\n",
    "    \n",
    "    # The initial ordering of rows\n",
    "    p = list(range(n))\n",
    "    \n",
    "     # Start the k-1 passes of Guassian Elimination on A\n",
    "    for k in range(n-1):\n",
    "\n",
    "        # Find the pivot element and interchange the rows\n",
    "        pivot_index = k + np.argmax(np.abs(A[p[k:], k])/s[p[k:]])        \n",
    "        \n",
    "        # Interchange element in the permutation vector \n",
    "        # establish a count of interchanges by the variable c\n",
    "        if pivot_index !=k:\n",
    "            temp = p[k]\n",
    "            p[k]=p[pivot_index]\n",
    "            p[pivot_index] = temp\n",
    "            c= c+1\n",
    "            \n",
    "        if np.abs(A[p[k],k]) < 10**(-20):\n",
    "             sys.exit(\"ERROR!! Provided matrix is singular.\")\n",
    "        \n",
    "        # For the k-th pivot row Perform the Gaussian elimination on the following rows\n",
    "        for i in range(k+1, n):\n",
    "            # Find the multiplier\n",
    "            z = A[p[i],k]/A[p[k],k]\n",
    "            \n",
    "            #Save z in A itself. You can save this in L also\n",
    "            A[p[i],k] = z\n",
    "            \n",
    "            #Elimination operation: Changes all elements in a row simultaneously\n",
    "            ##\n",
    "            A[p[i],k+1:] -= z*A[p[k],k+1:]\n",
    "    \n",
    "    return A, p, c"
   ]
  },
  {
   "cell_type": "markdown",
   "metadata": {},
   "source": [
    "Problem 1: Solve the system Ax=b"
   ]
  },
  {
   "cell_type": "code",
   "execution_count": 53,
   "metadata": {},
   "outputs": [],
   "source": [
    "## modifying GE_srp to solve linear system\n",
    "## This function uses code given from class and has been modified\n",
    "def Solve_Axb(A, b):\n",
    "\n",
    "    m,n = A.shape\n",
    "    \n",
    "    if m !=n:\n",
    "        sys.exit(\"This function needs a square matrix as an input.\")\n",
    "    \n",
    "    #for solving system\n",
    "    x = np.zeros(n)\n",
    "    \n",
    "    A, p, c = GE_rsp(A)\n",
    "    \n",
    "    for k in range(n-1):\n",
    "        for i in range(k+1, n):\n",
    "             b[p[i:]] = -b[p[k]]*A[p[i],k]+b[p[i:]] #this scales the b vector the same way it scales A in GE_rsp\n",
    "    \n",
    "    # Below is the code to solve for x vector in Ax=b\n",
    "    x[p[n-1]] = b[p[n-1]]/A[p[n-1], n-1]\n",
    "    for j in range(n-2, -1, -1):\n",
    "        den = sum(A[p[j], j+1:]*x[p[j+1:]])\n",
    "        x[p[j]] = (b[p[j]]-den)/A[p[j], j] \n",
    "    \n",
    "    return x"
   ]
  },
  {
   "cell_type": "code",
   "execution_count": 54,
   "metadata": {},
   "outputs": [
    {
     "name": "stdout",
     "output_type": "stream",
     "text": [
      "\n",
      " Given A: \n",
      "  [[1. 6. 0.]\n",
      " [2. 1. 0.]\n",
      " [0. 2. 1.]]\n",
      "\n",
      " Given b: \n",
      " [3. 1. 1.]\n",
      "\n",
      " The system is solved when the x vector is: \n",
      " [0.09090909 0.27272727 0.45454545]\n"
     ]
    }
   ],
   "source": [
    "## Solve the following system below\n",
    "A = np.array([[1, 6, 0], [2,1,0], [0, 2, 1]], dtype=float)\n",
    "b = np.array([3,1,1], dtype=float)\n",
    "print(\"\\n Given A: \\n \",A)\n",
    "print(\"\\n Given b: \\n\", b)\n",
    "x =Solve_Axb(A, b)\n",
    "print(\"\\n The system is solved when the x vector is: \\n\", x)"
   ]
  },
  {
   "cell_type": "markdown",
   "metadata": {},
   "source": [
    "Problem 2: Find the determinant of a square matrix"
   ]
  },
  {
   "cell_type": "code",
   "execution_count": 55,
   "metadata": {},
   "outputs": [],
   "source": [
    "def det_A(A):\n",
    "\n",
    "    m,n = A.shape\n",
    "    \n",
    "    if m !=n:\n",
    "        sys.exit(\"This function needs a square matrix as an input.\")\n",
    "        \n",
    "    A, p, c = GE_rsp(A)\n",
    "        \n",
    "    # below is the code to solve for determinant of A\n",
    "    U = np.triu(A[p,:])\n",
    "    dA = 1;\n",
    "    for i in range(0, n):\n",
    "        dA = dA*U[i,i]\n",
    "    if (c % 2) != 0:\n",
    "        dA = -1*dA\n",
    "        \n",
    "    return dA"
   ]
  },
  {
   "cell_type": "code",
   "execution_count": 56,
   "metadata": {},
   "outputs": [
    {
     "name": "stdout",
     "output_type": "stream",
     "text": [
      "\n",
      " The given matrix A is: \n",
      " [[0.54340494 0.27836939 0.42451759 0.84477613 0.00471886 0.12156912\n",
      "  0.67074908 0.82585276 0.13670659 0.57509333]\n",
      " [0.89132195 0.20920212 0.18532822 0.10837689 0.21969749 0.97862378\n",
      "  0.81168315 0.17194101 0.81622475 0.27407375]\n",
      " [0.43170418 0.94002982 0.81764938 0.33611195 0.17541045 0.37283205\n",
      "  0.00568851 0.25242635 0.79566251 0.01525497]\n",
      " [0.59884338 0.60380454 0.10514769 0.38194344 0.03647606 0.89041156\n",
      "  0.98092086 0.05994199 0.89054594 0.5769015 ]\n",
      " [0.74247969 0.63018394 0.58184219 0.02043913 0.21002658 0.54468488\n",
      "  0.76911517 0.25069523 0.28589569 0.85239509]\n",
      " [0.97500649 0.88485329 0.35950784 0.59885895 0.35479561 0.34019022\n",
      "  0.17808099 0.23769421 0.04486228 0.50543143]\n",
      " [0.37625245 0.5928054  0.62994188 0.14260031 0.9338413  0.94637988\n",
      "  0.60229666 0.38776628 0.363188   0.20434528]\n",
      " [0.27676506 0.24653588 0.173608   0.96660969 0.9570126  0.59797368\n",
      "  0.73130075 0.34038522 0.0920556  0.46349802]\n",
      " [0.50869889 0.08846017 0.52803522 0.99215804 0.39503593 0.33559644\n",
      "  0.80545054 0.75434899 0.31306644 0.63403668]\n",
      " [0.54040458 0.29679375 0.1107879  0.3126403  0.45697913 0.65894007\n",
      "  0.25425752 0.64110126 0.20012361 0.65762481]]\n",
      "\n",
      " The determinant of matrix A is:  0.007686324185051754\n"
     ]
    }
   ],
   "source": [
    "A = np.random.rand(10,10)\n",
    "print(\"\\n The given matrix A is: \\n\", A)\n",
    "dA = det_A(A)\n",
    "print(\"\\n The determinant of matrix A is: \", dA)"
   ]
  },
  {
   "cell_type": "markdown",
   "metadata": {},
   "source": [
    "Problem 3: Find the inverse of matrix A\n",
    "            method: using the [A|I] to [I|A-1] method"
   ]
  },
  {
   "cell_type": "code",
   "execution_count": 57,
   "metadata": {},
   "outputs": [],
   "source": [
    "   def inv_A(A):\n",
    "\n",
    "    m,n = A.shape\n",
    "    \n",
    "    if m !=n:\n",
    "        sys.exit(\"This function needs a square matrix as an input.\")\n",
    "        \n",
    "    A, p, c = GE_rsp(A)\n",
    "    \n",
    "    Ain = np.eye(n) # identity matrix to help look for A\n",
    "    \n",
    "    for k in range(n-1):\n",
    "        for i in range(k+1, n):\n",
    "            Ain[p[i], k+1:] -= A[p[i],k]*Ain[p[k],k+1:] # this is for finding the inverse\n",
    "    \n",
    "    F = np.triu(A[p,:])  #upper triangular matrix of A (this matrix is the U in PA=LU)\n",
    "    for k in range(0, n):  # make sure all the diagonals are 1s\n",
    "        div = F[k, k]\n",
    "        Ain[p[k],:] = Ain[p[k],:]/div\n",
    "        F[k,k:] = F[k,k:]/div\n",
    "    \n",
    "    for k in range (1, n):  #start changing F to an identity matrix and Ain to the inverse\n",
    "        for i in range (0, k):\n",
    "            z = F[i, k]\n",
    "            F[i, k:]-= z*F[k, k:]\n",
    "            Ain[p[i],:]-= z*Ain[p[k],:]\n",
    "    \n",
    "    Acpy = Ain.copy() #make sure Ain is un-permuted to just be the inverse of A\n",
    "    for j in range (0, n):\n",
    "        Acpy[j,:] = Ain[p[j], :]\n",
    "    Ain = Acpy.copy()\n",
    "    \n",
    "    return Ain"
   ]
  },
  {
   "cell_type": "code",
   "execution_count": 58,
   "metadata": {},
   "outputs": [
    {
     "name": "stdout",
     "output_type": "stream",
     "text": [
      "\n",
      " The given matrix A is: \n",
      " [[1. 6. 0.]\n",
      " [2. 1. 0.]\n",
      " [0. 2. 1.]]\n",
      "\n",
      " The inverse of matrix A is: \n",
      " [[-0.09090909  0.54545455  0.        ]\n",
      " [ 0.18181818 -0.09090909  0.        ]\n",
      " [-0.36363636  0.18181818  1.        ]]\n"
     ]
    }
   ],
   "source": [
    "A = np.array([[1, 6, 0], [2,1,0], [0, 2, 1]], dtype=float)\n",
    "print(\"\\n The given matrix A is: \\n\", A)\n",
    "Ain = inv_A(A)\n",
    "print(\"\\n The inverse of matrix A is: \\n\", Ain)"
   ]
  },
  {
   "cell_type": "markdown",
   "metadata": {},
   "source": [
    "Problem A: Guass-Seidel Iteration where x_old represents the x(kth) and x represents the x(k+1th)"
   ]
  },
  {
   "cell_type": "code",
   "execution_count": 59,
   "metadata": {},
   "outputs": [],
   "source": [
    "# You can modify this code to answer the following\n",
    "'''\n",
    "Jacobi's iteration method for solving the system of equations Ax=b.\n",
    "p0 is the initialization for the iteration.\n",
    "'''\n",
    "def seidel(A, b, x0, tol, maxIter=100):\n",
    "    n=len(A)\n",
    "    x = x0\n",
    "   \n",
    "    for k in range(maxIter):\n",
    "        x_old = x.copy() # In python assignment is not the same as copy\n",
    "        \n",
    "        # Update every component of iterant p\n",
    "        for i in range(n):\n",
    "            sumi = b[i];\n",
    "            rsum = 0\n",
    "            lsum = 0\n",
    "            for j in range(i+1, n):\n",
    "                rsum += A[i,j]*x_old[j]\n",
    "            for j in range(0, i):\n",
    "                lsum += A[i,j]*x[j]\n",
    "            x[i] = (1/A[i,i])*(sumi-rsum-lsum)\n",
    "       \n",
    "        diff = 0\n",
    "        for i in range(n):\n",
    "            diff += abs(x[i]-x_old[i])\n",
    "        rel_error = diff/n\n",
    "        \n",
    "        if rel_error < tol:\n",
    "            print(\"TOLERANCE MET BEFORE MAX-ITERATION\")\n",
    "            break\n",
    "    return x"
   ]
  },
  {
   "cell_type": "code",
   "execution_count": 60,
   "metadata": {},
   "outputs": [],
   "source": [
    "# Example System\n",
    "A = np.array([[10, -1, 2, 0],\n",
    "              [-1, 11, -1, 3],\n",
    "              [2, -1, 10, -1],\n",
    "              [0, 3, -1, 8]],dtype=float)\n",
    "b = np.array([6, 25, -11, 15],dtype=float)\n",
    "tol= 0.00001\n",
    "x0 = [0,0,0,0]"
   ]
  },
  {
   "cell_type": "code",
   "execution_count": 61,
   "metadata": {},
   "outputs": [
    {
     "name": "stdout",
     "output_type": "stream",
     "text": [
      "TOLERANCE MET BEFORE MAX-ITERATION\n",
      "\n",
      " Solving the system: \n",
      " [1.000000666348162, 2.0000000246073673, -1.0000002091224143, 0.9999999646319354]\n"
     ]
    }
   ],
   "source": [
    "x = seidel(A, b, x0, tol)\n",
    "print(\"\\n Solving the system: \\n\", x)"
   ]
  },
  {
   "cell_type": "markdown",
   "metadata": {},
   "source": [
    "Problem B: Successive Over-relaxation (SOR) \n",
    "            where x_old represents the x(kth) and x represents the x(k+1th)\n",
    "               different from the above method due to the w (weight factor)"
   ]
  },
  {
   "cell_type": "code",
   "execution_count": 62,
   "metadata": {},
   "outputs": [],
   "source": [
    "def SOR(A, b, x0, w, tol, maxIter=100):\n",
    "    \n",
    "    n=len(A)\n",
    "    x = x0\n",
    "    \n",
    "    for k in range(maxIter):\n",
    "        x_old = x.copy() # In python assignment is not the same as copy\n",
    "        \n",
    "        # Update every component of iterant p\n",
    "        for i in range(n):\n",
    "            rsum = 0\n",
    "            lsum = 0\n",
    "            for j in range(i+1, n):\n",
    "                rsum += A[i,j]*x_old[j]\n",
    "            for j in range(0, i):\n",
    "                lsum += A[i,j]*x[j]\n",
    "            x[i] = (1.0-w)*x_old[i] + (w/A[i,i])*(b[i]-lsum-rsum)\n",
    "            \n",
    "        diff = 0\n",
    "        for i in range(n):\n",
    "            diff += abs(x[i]-x_old[i])\n",
    "        rel_error = diff/n\n",
    "        \n",
    "        if rel_error < tol:\n",
    "            print(\"TOLERANCE MET BEFORE MAX-ITERATION\")\n",
    "            break\n",
    "    return x"
   ]
  },
  {
   "cell_type": "code",
   "execution_count": 63,
   "metadata": {},
   "outputs": [
    {
     "name": "stdout",
     "output_type": "stream",
     "text": [
      "TOLERANCE MET BEFORE MAX-ITERATION\n",
      "\n",
      " Solving the system: \n",
      " [1.000001039057121, 2.0000047104803325, -1.0000027864625325, 0.9999981864832086]\n"
     ]
    }
   ],
   "source": [
    "# Example System\n",
    "A = np.array([[10, -1, 2, 0],\n",
    "              [-1, 11, -1, 3],\n",
    "              [2, -1, 10, -1],\n",
    "              [0, 3, -1, 8]],dtype=float)\n",
    "b = np.array([6, 25, -11, 15],dtype=float)\n",
    "tol= 0.00001\n",
    "x0 = [0,0,0,0]\n",
    "w = 1.5\n",
    "x = SOR(A, b, x0, w, tol)\n",
    "print(\"\\n Solving the system: \\n\", x)"
   ]
  },
  {
   "cell_type": "code",
   "execution_count": null,
   "metadata": {},
   "outputs": [],
   "source": []
  }
 ],
 "metadata": {
  "kernelspec": {
   "display_name": "Python 3",
   "language": "python",
   "name": "python3"
  },
  "language_info": {
   "codemirror_mode": {
    "name": "ipython",
    "version": 3
   },
   "file_extension": ".py",
   "mimetype": "text/x-python",
   "name": "python",
   "nbconvert_exporter": "python",
   "pygments_lexer": "ipython3",
   "version": "3.8.5"
  }
 },
 "nbformat": 4,
 "nbformat_minor": 4
}
